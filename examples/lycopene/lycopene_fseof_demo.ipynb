{
 "cells": [
  {
   "cell_type": "markdown",
   "source": [
    "# Verifying the Accuracy of iGEM Toronto's Flux Scanning Based on Enforced objective Flux (FSEOF) Implementation\n",
    "\n",
    "As part of their 2023 project, the Dry Lab sub-team of the University of Toronto's iGEM team implemented the Flux Scanning Based on Enforced objective Flux (FSEOF) method, based on the original FSEOF framework presented in the paper by Choi et al., titled: *In silico identification of gene amplification targets for improvement of lycopene production*. FSEOF is used to identify candidate genes that can be overexpressed in order to achieve a metabolic engineering objective.\n",
    "\n",
    "<in order to validate our implementation, we decided to replicate so and so experiment (from the paper) to see if we got the same candidate genes for improved lycopene biosynthesis\n",
    "\n",
    "\n",
    "\n",
    "*Implementation of FSEOF on lycopene-producing E. coli*\n",
    "Choi et. al 2010: https://www.ncbi.nlm.nih.gov/pmc/articles/PMC2869140/"
   ],
   "metadata": {
    "collapsed": false
   }
  },
  {
   "cell_type": "code",
   "execution_count": 1,
   "outputs": [],
   "source": [
    "import sys\n",
    "sys.path.append(\"..\")"
   ],
   "metadata": {
    "collapsed": false,
    "ExecuteTime": {
     "end_time": "2023-09-13T23:10:41.255334Z",
     "start_time": "2023-09-13T23:10:41.250420Z"
    }
   }
  },
  {
   "cell_type": "code",
   "execution_count": 1,
   "outputs": [],
   "source": [],
   "metadata": {
    "collapsed": false,
    "ExecuteTime": {
     "end_time": "2023-08-30T17:14:30.621035Z",
     "start_time": "2023-08-30T17:14:30.617922Z"
    }
   }
  },
  {
   "cell_type": "markdown",
   "source": [
    "## Construction of the lycopene-producing *E. coli*\n",
    "\n",
    "The parental *E. coli* strain that was used in the paper to experimentally validate the targets identified by FSEOF (paper's FSEOF) is a \"recombinant E. coli DH5 alpha strain... which contains the *Erwinia uredovora crtEIB* (lycopene biosynthesis) genes and the *E. coli dxs* gene.\" (Choi et al. 2010)\n",
    "\n",
    "< with the exception of dxs (they added it for the purposes of overexpression, but we cant simulate that), since it was already present in the model)>\n",
    "\n",
    "The genome scale metabolic model used in the paper for the *in-silico* metabolic modeling and analysis of the recombinant E. coli DH5 alpha strain (using MetaFluxNet) was EcoMBEL979, which was expanded to include the lycopene biosynthetic pathway genes (crtEIB).\n",
    "\n",
    "Instead of using the expanded EcoMBEL979 model for the *in-silico* metabolic modeling and analysis of the recombinant E. coli DH5 alpha strain, this example uses the already available BiGG model for E. coli DH5 alpha (BiGG ID: iEC1368_DH5a), and expands it to include the necessary lycopene biosynthetic pathway genes, crtE, crtB and crtI.\n",
    "\n",
    "In addition to the lycopene biosynthetic genes, a lycopene demand reaction was added. [Should I explain why here?]\n",
    "Ref: https://cnls.lanl.gov/external/qbio2018/Slides/FBA%202/qBio-FBA-lab-slides.pdf\n",
    "\n",
    "Reference for the exact genes (and their reactions) added can be found in choi et. al supplementary file 3, page 11.\n",
    "\n",
    "\n",
    "\n"
   ],
   "metadata": {
    "collapsed": false
   }
  },
  {
   "cell_type": "code",
   "execution_count": null,
   "outputs": [],
   "source": [],
   "metadata": {
    "collapsed": false
   }
  },
  {
   "cell_type": "code",
   "execution_count": 2,
   "outputs": [],
   "source": [
    "import examples\n",
    "import fseof_additions\n",
    "import fseof_media\n",
    "import dh5_alpha\n",
    "\n",
    "#load model\n",
    "model = dh5_alpha.ecoli_dh5a()\n",
    "\n",
    "#add necessary genes (lycopene pathways)\n",
    "fseof_additions.add_crtE(model)\n",
    "fseof_additions.add_crtB(model)\n",
    "fseof_additions.add_crtI(model)\n",
    "fseof_additions.add_lyco_dem(model)\n",
    "\n",
    "\n",
    "\n",
    "\n",
    "\n"
   ],
   "metadata": {
    "collapsed": false,
    "ExecuteTime": {
     "end_time": "2023-08-23T16:40:08.526268Z",
     "start_time": "2023-08-23T16:39:55.099278Z"
    }
   }
  },
  {
   "cell_type": "markdown",
   "source": [
    "## Media Setup\n",
    "\n",
    "Next, the media must be set. [Explain media setup]\n"
   ],
   "metadata": {
    "collapsed": false
   }
  },
  {
   "cell_type": "code",
   "execution_count": null,
   "outputs": [],
   "source": [
    "#set LB media\n",
    "fseof_media.simulate_LB_media(model)"
   ],
   "metadata": {
    "collapsed": false
   }
  },
  {
   "cell_type": "code",
   "execution_count": 3,
   "outputs": [
    {
     "data": {
      "text/plain": "0.9657492354740086"
     },
     "execution_count": 3,
     "metadata": {},
     "output_type": "execute_result"
    }
   ],
   "source": [
    "#check objective to see if matches the one presented in paper\n",
    "\n",
    "#max theoretical lycopene flux\n",
    "model.objective = \"LYCOdem\"\n",
    "solution = model.optimize()\n",
    "solution.objective_value\n"
   ],
   "metadata": {
    "collapsed": false,
    "ExecuteTime": {
     "end_time": "2023-08-23T16:40:11.280823Z",
     "start_time": "2023-08-23T16:40:10.883140Z"
    }
   }
  },
  {
   "cell_type": "markdown",
   "source": [
    "Now, we will run our implementation of FSEOF on the model created above."
   ],
   "metadata": {
    "collapsed": false
   }
  },
  {
   "cell_type": "code",
   "execution_count": 4,
   "outputs": [
    {
     "name": "stderr",
     "output_type": "stream",
     "text": [
      "FSEOF; Scanning: 100%|██████████| 10/10 [00:00<00:00, 37.02it/s]\n",
      "FSEOF; Running FVA: 100%|██████████| 10/10 [03:59<00:00, 23.97s/it]"
     ]
    },
    {
     "name": "stdout",
     "output_type": "stream",
     "text": [
      "                              target  vmin      vmax  flux0     flux1  \\\n",
      "23CUMPtex                      False   0.0  0.000000    0.0  0.000000   \n",
      "23DAPPAt2pp                    False   0.0  0.000000    0.0  0.000000   \n",
      "23DAPPAtex                     False   0.0  0.000000    0.0  0.000000   \n",
      "BIOMASS_Ec_iJO1366_WT_53p95M   False   0.0  0.000000    0.0  0.000000   \n",
      "23PDE2pp                       False   0.0  0.000000    0.0  0.000000   \n",
      "...                              ...   ...       ...    ...       ...   \n",
      "UAG4Ei                         False   0.0  0.000000    0.0  0.000000   \n",
      "UGCIAMH                        False   0.0  0.000000    0.0  0.000000   \n",
      "ZCRTE                           True   0.0  1.738349    0.0  0.193150   \n",
      "ZCRTB                           True   0.0  0.869174    0.0  0.096575   \n",
      "ZCRTI                           True   0.0  0.869174    0.0  0.096575   \n",
      "\n",
      "                                flux2     flux3     flux4     flux5     flux6  \\\n",
      "23CUMPtex                     0.00000  0.000000  0.000000  0.000000  0.000000   \n",
      "23DAPPAt2pp                   0.00000  0.000000  0.000000  0.000000  0.000000   \n",
      "23DAPPAtex                    0.00000  0.000000  0.000000  0.000000  0.000000   \n",
      "BIOMASS_Ec_iJO1366_WT_53p95M  0.00000  0.000000  0.000000  0.000000  0.000000   \n",
      "23PDE2pp                      0.00000  0.000000  0.000000  0.000000  0.000000   \n",
      "...                               ...       ...       ...       ...       ...   \n",
      "UAG4Ei                        0.00000  0.000000  0.000000  0.000000  0.000000   \n",
      "UGCIAMH                       0.00000  0.000000  0.000000  0.000000  0.000000   \n",
      "ZCRTE                         0.38630  0.579450  0.772599  0.965749  1.158899   \n",
      "ZCRTB                         0.19315  0.289725  0.386300  0.482875  0.579450   \n",
      "ZCRTI                         0.19315  0.289725  0.386300  0.482875  0.579450   \n",
      "\n",
      "                                 flux7     flux8     flux9  \n",
      "23CUMPtex                     0.000000  0.000000  0.000000  \n",
      "23DAPPAt2pp                   0.000000  0.000000  0.000000  \n",
      "23DAPPAtex                    0.000000  0.000000  0.000000  \n",
      "BIOMASS_Ec_iJO1366_WT_53p95M  0.000000  0.000000  0.000000  \n",
      "23PDE2pp                      0.000000  0.000000  0.000000  \n",
      "...                                ...       ...       ...  \n",
      "UAG4Ei                        0.000000  0.000000  0.000000  \n",
      "UGCIAMH                       0.000000  0.000000  0.000000  \n",
      "ZCRTE                         1.352049  1.545199  1.738349  \n",
      "ZCRTB                         0.676024  0.772599  0.869174  \n",
      "ZCRTI                         0.676024  0.772599  0.869174  \n",
      "\n",
      "[2437 rows x 13 columns]\n"
     ]
    },
    {
     "name": "stderr",
     "output_type": "stream",
     "text": [
      "\n"
     ]
    }
   ],
   "source": [
    "#run fseof to cross-check with choi et al. paper\n",
    "import cobra_fseof\n",
    "results = cobra_fseof.fseof(model, 10, \"LYCOdem\", \"BIOMASS_Ec_iJO1366_core_53p95M\", \"max\")\n",
    "print(results.scan)"
   ],
   "metadata": {
    "collapsed": false,
    "ExecuteTime": {
     "end_time": "2023-08-23T16:44:18.032829Z",
     "start_time": "2023-08-23T16:40:16.956047Z"
    },
    "pycharm": {
     "name": "#%%\n"
    }
   }
  },
  {
   "cell_type": "code",
   "execution_count": 5,
   "outputs": [
    {
     "name": "stdout",
     "output_type": "stream",
     "text": [
      "['AKGDH', 'CDPMEK', 'CYTK1', 'DMATT', 'DXPRIi', 'DXPS', 'FBA3', 'FE3Ri', 'FESD1s', 'FESR', 'GRTT', 'IPDDI', 'IPDPS', 'MECDPDH5', 'MECDPS', 'MEPCT', 'MOX', 'PIt2rpp', 'PItex', 'PFK_3', 'NDPK3', 'PGI', 'PGMT', 'POR5', 'PYK', 'RPE', 'TKT1', 'TKT2', 'TPI', 'MECDPDH2', 'ZCRTE', 'ZCRTB', 'ZCRTI']\n"
     ]
    }
   ],
   "source": [
    "#print list of reactions that our fseof identiified\n",
    "targets = zip(results.scan.index, results.scan.target)\n",
    "targets = dict(targets)\n",
    "lst = []\n",
    "for target in targets:\n",
    "    if targets[target]:\n",
    "        lst.append(target)\n",
    "\n",
    "print(lst)\n",
    "\n",
    "\n",
    "\n"
   ],
   "metadata": {
    "collapsed": false,
    "ExecuteTime": {
     "end_time": "2023-08-23T16:49:52.800367Z",
     "start_time": "2023-08-23T16:49:52.795283Z"
    }
   }
  },
  {
   "cell_type": "code",
   "execution_count": 6,
   "outputs": [],
   "source": [
    "# choi et al. 2010 Supplemental Table 4A (All reactions that were identified by their fseof)\n",
    "\n",
    "#TCA cycle reactions\n",
    "#'FUM_rxn' not in model, so replaced it with 'FUM'\n",
    "tableFourTCA = ['ACONT', 'CS', 'FUM', 'ICDHyr', 'MDH', 'SUCDli', 'SUCOAS', 'AKGDH', 'SUCD4']\n",
    "\n",
    "\n",
    "# 'MECDPDH5' from table 4A, is replaced with 'MECDPDH2' and 'MECDPDH5' here\n",
    "tableFourLyc = ['CDPMEK', 'DMATT', 'DXPRIi', 'DXPS','GRTT', 'IPDDI', 'IPDPS', 'MECDPDH5', 'MECDPDH2', 'MECDPS', 'MEPCT', 'ZCRTE', 'ZCRTB', 'ZCRTI']\n",
    "\n",
    "\n",
    "#TODO: PFK_3==PFK (but theres also PFK in model...)\n",
    "# FBA is replaced with 'FBA3' http://bigg.ucsd.edu/models/iEC1368_DH5a/genes/locus_2187\n",
    "tableFourGlyc = ['FBA3', 'PFK_3', 'PGI', 'TPI']\n",
    "\n",
    "\n",
    "#disclaimer: 'CACTP' is replaced by 'CRNabcpp' (since model did not have CACTP rxn)\n",
    "#CAITP is replaced by CRNt8pp (since model did not have CAITP rxn)\n",
    "tableFourOther = ['ADK1', 'ADK4', 'CYTK1', 'CRNabcpp', 'CRNt8pp', 'PPA', 'CO2t', 'H2Ot', 'PIt2rpp']\n",
    "\n",
    "\n"
   ],
   "metadata": {
    "collapsed": false,
    "ExecuteTime": {
     "end_time": "2023-08-23T16:49:56.235802Z",
     "start_time": "2023-08-23T16:49:56.226816Z"
    }
   }
  },
  {
   "cell_type": "code",
   "execution_count": 9,
   "outputs": [
    {
     "name": "stdout",
     "output_type": "stream",
     "text": [
      "Total number of reactions that the choi et. al 2010 paper identified: 36\n",
      "How many out of the total number of reactions that the choi et. al paper identified, did our FSEOF identify: 21/36\n",
      "Above value as a percentage: 0.5833333333333334\n",
      "What percentage of the Lycopene biosynthetic pathways that choi et. al identified, did our fseof identify: 1.0\n"
     ]
    }
   ],
   "source": [
    "#Of the genes in supp file 4, how many was our algorithm able to identify?\n",
    "\n",
    "tableFourMegalst = tableFourTCA + tableFourLyc + tableFourGlyc + tableFourOther\n",
    "print(\"Total number of reactions that the choi et. al 2010 paper identified: \" + str(len(tableFourMegalst)))\n",
    "\n",
    "count = 0\n",
    "for item in tableFourMegalst:\n",
    "    if item in lst:\n",
    "        count += 1\n",
    "\n",
    "print(\"How many out of the total number of reactions that the choi et. al paper identified, did our FSEOF identify: \" + str(count) + \"/\" + str(len(tableFourMegalst)))\n",
    "print(\"Above value as a percentage: \" + str(count/len(tableFourMegalst)))\n",
    "\n",
    "\n",
    "count1 = 0\n",
    "for item in tableFourLyc:\n",
    "    if item in lst:\n",
    "        count1 += 1\n",
    "\n",
    "print(\"What percentage of the Lycopene biosynthetic pathways that choi et. al identified, did our fseof identify: \" + str(count1/len(tableFourLyc)))\n",
    "\n",
    "\n"
   ],
   "metadata": {
    "collapsed": false,
    "ExecuteTime": {
     "end_time": "2023-08-23T16:51:00.156785Z",
     "start_time": "2023-08-23T16:51:00.149301Z"
    }
   }
  },
  {
   "cell_type": "markdown",
   "source": [],
   "metadata": {
    "collapsed": false
   }
  },
  {
   "cell_type": "code",
   "execution_count": null,
   "outputs": [],
   "source": [],
   "metadata": {
    "collapsed": false
   }
  }
 ],
 "metadata": {
  "kernelspec": {
   "name": "python3",
   "language": "python",
   "display_name": "Python 3 (ipykernel)"
  },
  "language_info": {
   "codemirror_mode": {
    "name": "ipython",
    "version": 2
   },
   "file_extension": ".py",
   "mimetype": "text/x-python",
   "name": "python",
   "nbconvert_exporter": "python",
   "pygments_lexer": "ipython2",
   "version": "2.7.6"
  }
 },
 "nbformat": 4,
 "nbformat_minor": 0
}
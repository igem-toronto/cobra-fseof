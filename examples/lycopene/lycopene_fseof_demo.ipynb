{
 "cells": [
  {
   "cell_type": "markdown",
   "source": [
    "# Verifying the Accuracy of iGEM Toronto's Flux Scanning Based on Enforced objective Flux (FSEOF) Implementation\n",
    "\n",
    "As part of their 2023 project, the Dry Lab sub-team of the University of Toronto's iGEM team implemented the Flux Scanning Based on Enforced objective Flux (FSEOF) method, based on the original FSEOF framework presented in the paper by Choi et al., titled: *In silico identification of gene amplification targets for improvement of lycopene production*. FSEOF is used to identify candidate genes that can be overexpressed in order to achieve a metabolic engineering objective.\n",
    "\n",
    "<in order to validate our implementation, we decided to replicate so and so experiment (from the paper) to see if we got the same candidate genes for improved lycopene biosynthesis\n",
    "\n",
    "\n",
    "\n",
    "*Implementation of FSEOF on lycopene-producing E. coli*\n",
    "Choi et al. 2010: https://www.ncbi.nlm.nih.gov/pmc/articles/PMC2869140/"
   ],
   "metadata": {
    "collapsed": false,
    "pycharm": {
     "name": "#%% md\n"
    }
   }
  },
  {
   "cell_type": "code",
   "execution_count": 1,
   "metadata": {
    "ExecuteTime": {
     "end_time": "2023-09-13T23:10:41.255334Z",
     "start_time": "2023-09-13T23:10:41.250420Z"
    },
    "collapsed": false,
    "jupyter": {
     "outputs_hidden": false
    }
   },
   "outputs": [],
   "source": [
    "import sys\n",
    "sys.path.append(\"..\")"
   ]
  },
  {
   "cell_type": "markdown",
   "metadata": {
    "collapsed": false,
    "jupyter": {
     "outputs_hidden": false
    }
   },
   "source": [
    "## Construction of the lycopene-producing *E. coli*\n",
    "\n",
    "The parental *E. coli* strain that was used in the paper to experimentally validate the targets identified by FSEOF (paper's FSEOF) is a \"recombinant E. coli DH5 alpha strain... which contains the *Erwinia uredovora crtEIB* (lycopene biosynthesis) genes and the *E. coli dxs* gene.\" (Choi et al. 2010)\n",
    "\n",
    "< with the exception of dxs (they added it for the purposes of overexpression, but we cant simulate that), since it was already present in the model)>\n",
    "\n",
    "The genome scale metabolic model used in the paper for the *in-silico* metabolic modeling and analysis of the recombinant E. coli DH5 alpha strain (using MetaFluxNet) was EcoMBEL979, which was expanded to include the lycopene biosynthetic pathway genes (crtEIB).\n",
    "\n",
    "Instead of using the expanded EcoMBEL979 model for the *in-silico* metabolic modeling and analysis of the recombinant E. coli DH5 alpha strain, this example uses the already available BiGG model for E. coli DH5 alpha (BiGG ID: iEC1368_DH5a), and expands it to include the necessary lycopene biosynthetic pathway genes, crtE, crtB and crtI.\n",
    "\n",
    "In addition to the lycopene biosynthetic genes, a lycopene demand reaction was added. [Should I explain why here?]\n",
    "Ref: https://cnls.lanl.gov/external/qbio2018/Slides/FBA%202/qBio-FBA-lab-slides.pdf\n",
    "\n",
    "Reference for the exact genes (and their reactions) added can be found in choi et. al supplementary file 3, page 11."
   ]
  },
  {
   "cell_type": "code",
   "execution_count": 2,
   "metadata": {
    "pycharm": {
     "name": "#%%\n"
    }
   },
   "outputs": [],
   "source": [
    "import cobra\n",
    "import cobra\n",
    "from cobra import Reaction\n",
    "\n",
    "\n",
    "model = cobra.io.read_sbml_model(\"iEC1368_DH5a.xml\")\n",
    "\n",
    "\n",
    "# ==============================\n",
    "# Additional genes and reactions \n",
    "# ==============================\n",
    "\n",
    "\n",
    "def add_single_gene_reaction_pair_lyc(\n",
    "    model,\n",
    "    gene_id,\n",
    "    reaction_id,\n",
    "    reaction_name,\n",
    "    metabolites,\n",
    "    gene_name=None,\n",
    "):\n",
    "    assert not model.genes.query(lambda k: k == gene_id, attribute=\"id\")\n",
    "    assert not model.reactions.query(lambda k: k == reaction_id, attribute=\"id\")\n",
    "\n",
    "    rxn = cobra.Reaction(id=reaction_id)\n",
    "\n",
    "    if gene_name is None:\n",
    "        gene_name = gene_id\n",
    "    gene = cobra.Gene(gene_id, name=gene_name)\n",
    "\n",
    "    model.add_reactions([rxn])\n",
    "    model.genes.add(gene)\n",
    "\n",
    "    rxn.name = reaction_name\n",
    "    rxn.bounds = (-1000, 1000)\n",
    "    rxn.add_metabolites(metabolites)\n",
    "    rxn.gene_reaction_rule = gene_id\n",
    "\n",
    "\n",
    "# Add crtE gene\n",
    "ggpp = cobra.Metabolite(\n",
    "    id=\"ggpp\",\n",
    "    formula=\"C20H33O7P2\",\n",
    "    name=\"geranylgeranyl diphosphate\",\n",
    "    charge=-3,\n",
    "    compartment=\"c\",\n",
    ")\n",
    "model.add_metabolites([ggpp])\n",
    "\n",
    "phyto = cobra.Metabolite(\n",
    "    id=\"phyto\",\n",
    "    formula=\"C40H64\",\n",
    "    name=\"phytoene\",\n",
    "    charge=0,\n",
    "    compartment=\"c\",\n",
    ")\n",
    "model.add_metabolites([phyto])\n",
    "\n",
    "lyco = cobra.Metabolite(\n",
    "    id=\"lyco\",\n",
    "    formula=\"C40H56\",\n",
    "    name=\"lycopene\",\n",
    "    charge=0,\n",
    "    compartment=\"c\",\n",
    ")\n",
    "model.add_metabolites([lyco])\n",
    "\n",
    "add_single_gene_reaction_pair_lyc(\n",
    "    model=model,\n",
    "    gene_id=\"crtE\",\n",
    "    reaction_id=\"ZCRTE\",\n",
    "    reaction_name=\"Synthesis of geranylgeranyl pyrophosphate\",\n",
    "    metabolites={\n",
    "        \"ipdp_c\": -1.0,\n",
    "        \"frdp_c\": -1.0,\n",
    "        \"ggpp\": 1.0,\n",
    "        \"ppi_c\": 1.0\n",
    "    },\n",
    ")\n",
    "\n",
    "\n",
    "# Add crtB gene \n",
    "add_single_gene_reaction_pair_lyc(\n",
    "    model=model,\n",
    "    gene_id=\"crtB\",\n",
    "    reaction_id=\"ZCRTB\",\n",
    "    reaction_name=\"Synthesis of phytoene\",\n",
    "    metabolites={\n",
    "        \"ggpp\": -2.0,\n",
    "        \"phyto\": 1.0,\n",
    "        \"ppi_c\": 1.0\n",
    "    },\n",
    ")\n",
    "\n",
    "# Add crtI gene \n",
    "add_single_gene_reaction_pair_lyc(\n",
    "    model=model,\n",
    "    gene_id=\"crtI\",\n",
    "    reaction_id=\"ZCRTI\",\n",
    "    reaction_name=\"Synthesis of lycopene from phytoene (dehydrogenation reaction)\",\n",
    "    metabolites={\n",
    "        \"phyto\": -1.0,\n",
    "        \"fad_c\": -8.0,\n",
    "        \"lyco\": 1.0,\n",
    "        \"fadh2_c\": 8.0\n",
    "    },\n",
    ")\n",
    "\n",
    "\n",
    "# Add lycopene demand \n",
    "# https://cnls.lanl.gov/external/qbio2018/Slides/FBA%202/qBio-FBA-lab-slides.pdf (slide 21)\n",
    "lyco_dem = Reaction(\"LYCOdem\")\n",
    "model.add_reactions([lyco_dem])\n",
    "lyco_dem.name = \"Lycopene demand reaction\"\n",
    "lyco_dem.lower_bound = 0\n",
    "lyco_dem.upper_bound = 1000\n",
    "lyco_dem.add_metabolites({\"lyco\": -1.0})"
   ]
  },
  {
   "cell_type": "markdown",
   "metadata": {
    "collapsed": false,
    "jupyter": {
     "outputs_hidden": false
    }
   },
   "source": [
    "## Media Setup\n",
    "\n",
    "Next, the media must be set. [Explain media setup]\n"
   ]
  },
  {
   "cell_type": "code",
   "execution_count": 3,
   "metadata": {
    "collapsed": false,
    "jupyter": {
     "outputs_hidden": false
    }
   },
   "outputs": [],
   "source": [
    "#set LB media\n",
    "#lb medium ref: https://github.com/cdanielmachado/carveme/blob/master/carveme/data/input/media_db.tsv\n",
    "#TODO: what should the flux of all the metabolites here be set to?\n",
    "#TODO: simulated LB media here, but paper's media is '2 x YT'\n",
    "\n",
    "LB_MEDIA_COMP = [\n",
    "    \"adn\", \"ala__L\", \"amp\", \"arg__L\",\n",
    "    \"aso3\", \"asp__L\", \"ca2\", \"cbl1\",\n",
    "    \"cd2\", \"cl\", \"cmp\", \"cobalt2\",\n",
    "    \"cro4\", \"cu2\", \"cys__L\", \"dad_2\",\n",
    "    \"dcyt\", \"fe2\", \"fe3\", \"fol\", \"glc__D\",\n",
    "    \"glu__L\", \"gly\", \"gmp\", \"gsn\", \"h2o\",\n",
    "    \"h2s\", \"h\", \"hg2\", \"his__L\", \"hxan\",\n",
    "    \"ile__L\", \"ins\", \"k\", \"leu__L\", \"lipoate\",\n",
    "    \"lys__L\", \"met__L\", \"mg2\", \"mn2\", \"mobd\",\n",
    "    \"na1\", \"nac\", \"nh4\", \"ni2\", \"o2\",\n",
    "    \"phe__L\", \"pheme\", \"pi\", \"pnto__R\",\n",
    "    \"pro__L\", \"pydx\", \"ribflv\", \"ser__L\",\n",
    "    \"so4\", \"thm\", \"thr__L\", \"thymd\", \"trp__L\",\n",
    "    \"tyr__L\", \"ump\", \"ura\", \"uri\", \"val__L\",\n",
    "    \"zn2\",\n",
    "]\n",
    "\n",
    "for metabolite in LB_MEDIA_COMP:\n",
    "    model.medium[f\"EX_{metabolite}_e\"] = 5"
   ]
  },
  {
   "cell_type": "code",
   "execution_count": 4,
   "metadata": {
    "ExecuteTime": {
     "end_time": "2023-08-23T16:40:11.280823Z",
     "start_time": "2023-08-23T16:40:10.883140Z"
    },
    "collapsed": false,
    "jupyter": {
     "outputs_hidden": false
    },
    "pycharm": {
     "name": "#%%\n"
    }
   },
   "outputs": [
    {
     "data": {
      "text/plain": [
       "0.9657492354740086"
      ]
     },
     "execution_count": 4,
     "metadata": {},
     "output_type": "execute_result"
    }
   ],
   "source": [
    "# Check objective to see if matches the one presented in paper\n",
    "\n",
    "# Max. theoretical lycopene flux\n",
    "model.objective = \"LYCOdem\"\n",
    "model.slim_optimize()"
   ]
  },
  {
   "cell_type": "markdown",
   "metadata": {
    "collapsed": false,
    "jupyter": {
     "outputs_hidden": false
    }
   },
   "source": [
    "Now, we will run our implementation of FSEOF on the model created above."
   ]
  },
  {
   "cell_type": "code",
   "execution_count": null,
   "metadata": {
    "ExecuteTime": {
     "end_time": "2023-08-23T16:44:18.032829Z",
     "start_time": "2023-08-23T16:40:16.956047Z"
    },
    "collapsed": false,
    "jupyter": {
     "outputs_hidden": false
    },
    "pycharm": {
     "name": "#%%\n"
    }
   },
   "outputs": [
    {
     "name": "stderr",
     "output_type": "stream",
     "text": [
      "FSEOF; Scanning: 100%|████████████████████████████████████████████████████████████████████████████████████████████████████████████████████| 10/10 [00:00<00:00, 29.30it/s]\n",
      "FSEOF; Running FVA:  30%|██████████████████████████████████▏                                                                               | 3/10 [00:48<01:53, 16.19s/it]"
     ]
    }
   ],
   "source": [
    "import cobra_fseof\n",
    "\n",
    "results = cobra_fseof.fseof(model, 10, \"LYCOdem\", \"BIOMASS_Ec_iJO1366_core_53p95M\", \"max\")\n",
    "print(results.scan)"
   ]
  },
  {
   "cell_type": "markdown",
   "metadata": {},
   "source": [
    "Let's print the list of target reactions that FSEOF identified."
   ]
  },
  {
   "cell_type": "code",
   "execution_count": null,
   "metadata": {},
   "outputs": [],
   "source": [
    "scan = results.scan \n",
    "targets = set(scan[scan.target].index)\n",
    "targets"
   ]
  },
  {
   "cell_type": "code",
   "execution_count": null,
   "metadata": {
    "ExecuteTime": {
     "end_time": "2023-08-23T16:49:56.235802Z",
     "start_time": "2023-08-23T16:49:56.226816Z"
    },
    "collapsed": false,
    "jupyter": {
     "outputs_hidden": false
    }
   },
   "outputs": [],
   "source": [
    "# Choi et al., 2010 Supplemental Table 4A (All reactions that were identified by their FSEOF)\n",
    "\n",
    "# TCA cycle reactions\n",
    "# \"FUM_rxn\" not in model, so replaced it with \"FUM\"\n",
    "tableFourTCA = {\"ACONT\", \"CS\", \"FUM\", \"ICDHyr\", \"MDH\", \"SUCDli\", \"SUCOAS\", \"AKGDH\", \"SUCD4\"}\n",
    "\n",
    "# \"MECDPDH5\" from table 4A, is replaced with \"MECDPDH2\" and \"MECDPDH5\" here\n",
    "tableFourLyc = {\"CDPMEK\", \"DMATT\", \"DXPRIi\", \"DXPS\",\"GRTT\", \"IPDDI\", \"IPDPS\", \"MECDPDH5\", \"MECDPDH2\", \"MECDPS\", \"MEPCT\", \"ZCRTE\", \"ZCRTB\", \"ZCRTI\"}\n",
    "\n",
    "# TODO: PFK_3==PFK (but theres also PFK in model...)\n",
    "# FBA is replaced with \"FBA3\" http://bigg.ucsd.edu/models/iEC1368_DH5a/genes/locus_2187\n",
    "tableFourGlyc = {\"FBA3\", \"PFK_3\", \"PGI\", \"TPI\"}\n",
    "\n",
    "# Disclaimer: \"CACTP\" is replaced by \"CRNabcpp\" (since model did not have CACTP rxn)\n",
    "# CAITP is replaced by CRNt8pp (since model did not have CAITP rxn)\n",
    "tableFourOther = {\"ADK1\", \"ADK4\", \"CYTK1\", \"CRNabcpp\", \"CRNt8pp\", \"PPA\", \"CO2t\", \"H2Ot\", \"PIt2rpp\"}"
   ]
  },
  {
   "cell_type": "code",
   "execution_count": null,
   "metadata": {
    "ExecuteTime": {
     "end_time": "2023-08-23T16:51:00.156785Z",
     "start_time": "2023-08-23T16:51:00.149301Z"
    },
    "collapsed": false,
    "jupyter": {
     "outputs_hidden": false
    },
    "pycharm": {
     "name": "#%%\n"
    }
   },
   "outputs": [],
   "source": [
    "# Of the genes in supp file 4, how many was our algorithm able to identify?\n",
    "\n",
    "choi_targets = tableFourTCA | tableFourLyc | tableFourGlyc | tableFourOther\n",
    "print(f\"Number of reactions we identified: {len(targets)}\")\n",
    "print(f\"Number of reactions Choi et al. identified: {len(choi_targets)}\")\n",
    "print(\n",
    "    f\"Percentage of reactions Choi et al. identified that we also identified: \"\n",
    "    f\"{len(targets & choi_targets) / len(choi_targets):0.2%}\"\n",
    ")\n",
    "print(\n",
    "    f\"Percentage of reactions we identified that Choi et al. also identified: \"\n",
    "    f\"{len(targets & choi_targets) / len(targets):0.2%}\"\n",
    ")"
   ]
  }
 ],
 "metadata": {
  "kernelspec": {
   "display_name": "Python 3 (ipykernel)",
   "language": "python",
   "name": "python3"
  },
  "language_info": {
   "codemirror_mode": {
    "name": "ipython",
    "version": 3
   },
   "file_extension": ".py",
   "mimetype": "text/x-python",
   "name": "python",
   "nbconvert_exporter": "python",
   "pygments_lexer": "ipython3",
   "version": "3.8.17"
  }
 },
 "nbformat": 4,
 "nbformat_minor": 4
}
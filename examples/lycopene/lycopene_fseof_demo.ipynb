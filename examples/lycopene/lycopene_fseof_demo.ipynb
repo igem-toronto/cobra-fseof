{
 "cells": [
  {
   "cell_type": "code",
   "execution_count": 1,
   "metadata": {
    "collapsed": true,
    "ExecuteTime": {
     "end_time": "2023-08-10T16:53:52.555901Z",
     "start_time": "2023-08-10T16:53:52.549180Z"
    }
   },
   "outputs": [],
   "source": [
    "import sys\n",
    "sys.path.append(\"..\")"
   ]
  },
  {
   "cell_type": "code",
   "execution_count": 2,
   "outputs": [],
   "source": [
    "import examples\n",
    "import fseof_additions\n",
    "import fseof_media\n",
    "import dh5_alpha\n",
    "\n",
    "#load model\n",
    "model = dh5_alpha.ecoli_dh5a()\n",
    "\n",
    "#add necessary genes (lycopene pathways)\n",
    "fseof_additions.add_crtE(model)\n",
    "fseof_additions.add_crtB(model)\n",
    "fseof_additions.add_crtI(model)\n",
    "fseof_additions.add_lyco_dem(model)\n",
    "\n",
    "#set LB media\n",
    "fseof_media.simulate_LB_media(model)\n",
    "\n",
    "\n",
    "\n"
   ],
   "metadata": {
    "collapsed": false,
    "ExecuteTime": {
     "end_time": "2023-08-10T16:54:17.611126Z",
     "start_time": "2023-08-10T16:54:02.957975Z"
    }
   }
  },
  {
   "cell_type": "code",
   "execution_count": 3,
   "outputs": [
    {
     "data": {
      "text/plain": "0.9657492354740086"
     },
     "execution_count": 3,
     "metadata": {},
     "output_type": "execute_result"
    }
   ],
   "source": [
    "#check objective to see if matches the one presented in paper\n",
    "\n",
    "#max theoretical lycopene flux\n",
    "model.objective = \"LYCOdem\"\n",
    "solution = model.optimize()\n",
    "solution.objective_value\n"
   ],
   "metadata": {
    "collapsed": false,
    "ExecuteTime": {
     "end_time": "2023-08-10T16:54:20.353293Z",
     "start_time": "2023-08-10T16:54:19.798581Z"
    }
   }
  },
  {
   "cell_type": "code",
   "execution_count": null,
   "outputs": [],
   "source": [
    "#run fseof to verify/cross-check with choi et al. paper\n",
    "from cobra_fseof.fseof import fseof\n",
    "results = fseof(model, 10, \"LYCOdem\", \"BIOMASS_Ec_iJO1366_core_53p95M\", \"max\")\n",
    "print(results.fva)"
   ],
   "metadata": {
    "collapsed": false
   }
  },
  {
   "cell_type": "code",
   "execution_count": 9,
   "outputs": [],
   "source": [
    "#export more/different results if needed\n",
    "results.scan.to_csv('targetlist.csv')\n",
    "results.fva.to_csv('targetfvalist.csv')\n"
   ],
   "metadata": {
    "collapsed": false,
    "ExecuteTime": {
     "end_time": "2023-08-09T17:31:19.460209Z",
     "start_time": "2023-08-09T17:31:19.426662Z"
    }
   }
  }
 ],
 "metadata": {
  "kernelspec": {
   "name": "python3",
   "language": "python",
   "display_name": "Python 3 (ipykernel)"
  },
  "language_info": {
   "codemirror_mode": {
    "name": "ipython",
    "version": 2
   },
   "file_extension": ".py",
   "mimetype": "text/x-python",
   "name": "python",
   "nbconvert_exporter": "python",
   "pygments_lexer": "ipython2",
   "version": "2.7.6"
  }
 },
 "nbformat": 4,
 "nbformat_minor": 0
}

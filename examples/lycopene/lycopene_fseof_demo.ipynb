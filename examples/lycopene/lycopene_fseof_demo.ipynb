{
 "cells": [
  {
   "cell_type": "markdown",
   "source": [
    "# Verifying the Accuracy of iGEM Toronto's Flux Scanning Based on Enforced objective Flux (FSEOF) Implementation\n",
    "\n",
    "As part of our 2023 project, we (the Dry Lab sub-team of the University of Toronto's iGEM team) made a COBRApy implementation of the FSEOF (Flux Scanning based on Enforced Objective Flux) algorithm [(Choi et al. 2010)](https://pubmed.ncbi.nlm.nih.gov/20348305/). FSEOF is used to identify candidate genes that can be overexpressed in order to achieve a metabolic engineering objective. In [Choi et al. 2010](https://pubmed.ncbi.nlm.nih.gov/20348305/), FSEOF was used to identify gene over-expression targets in lycopene-producing *E. coli* for increased production of lycopene.\n",
    "\n",
    "In order to validate our implementation of FSEOF, we applied it to lycopene-producing *E. coli* modeled in COBRApy, to see if our implementation outputted similar over-expression candidate reactions for improved lycopene biosynthesis as in [Choi et al. 2010](https://pubmed.ncbi.nlm.nih.gov/20348305/).\n",
    "\n",
    "Throughout the rest of this notebook example, we refer to our team implementation of FSEOF as cobra-fseof, and the original FSEOF algorithm in [Choi et al. 2010](https://pubmed.ncbi.nlm.nih.gov/20348305/), as just FSEOF.\n"
   ],
   "metadata": {
    "collapsed": false
   }
  },
  {
   "cell_type": "code",
   "execution_count": 1,
   "outputs": [],
   "source": [
    "import sys\n",
    "sys.path.append(\"..\")"
   ],
   "metadata": {
    "collapsed": false,
    "ExecuteTime": {
     "end_time": "2023-10-10T20:31:05.077935Z",
     "start_time": "2023-10-10T20:31:05.073011Z"
    }
   }
  },
  {
   "cell_type": "markdown",
   "source": [
    "## Construction of the lycopene-producing *E. coli* model in COBRApy\n",
    "\n",
    "The parental *E. coli* strain used in [(Choi et al. 2010)](https://pubmed.ncbi.nlm.nih.gov/20348305/) to experimentally validate the targets identified by FSEOF is a \"recombinant E. coli DH5 alpha strain that contains the *Erwinia uredovora crtEIB* (lycopene biosynthesis) genes...\" (Choi et al. 2010)\n",
    "The genome scale metabolic model (GSMM) used in [Choi et al. 2010](https://pubmed.ncbi.nlm.nih.gov/20348305/) for the *in-silico* metabolic modeling (through MetaFluxNet) and FSEOF simulations of the recombinant E. coli DH5 alpha strain, was EcoMBEL979, which was expanded to include the exogenous lycopene biosynthetic pathways and associated genes (Choi et al. 2010).\n",
    "\n",
    "Instead of using the expanded EcoMBEL979 GSMM for the *in-silico* metabolic modeling and cobra-fseof simulations of the recombinant E. coli DH5 alpha strain, we used the already available BiGG model for E. coli DH5 alpha [iEC1368_DH5a](https://pubmed.ncbi.nlm.nih.gov/20348305/), and expanded it to include the necessary lycopene biosynthetic pathways and the genes *crtE, crtB* and *crtI*, that mediate these pathways. In addition to the lycopene biosynthetic genes, a lycopene demand reaction was added. Reference for the exact names of the genes, pathways and metabolites that were added can be found in Choi et al. 2010 supplementary file 3, Table S3A and B.\n"
   ],
   "metadata": {
    "collapsed": false
   }
  },
  {
   "cell_type": "markdown",
   "source": [
    "First, we will load the base COBRApy E. coli DH5 alpha model."
   ],
   "metadata": {
    "collapsed": false
   }
  },
  {
   "cell_type": "code",
   "execution_count": 2,
   "outputs": [],
   "source": [
    "import pathlib\n",
    "import cobra\n",
    "import cobra.manipulation\n",
    "\n",
    "def ecoli_dh5a(variant: str = \"base\") -> cobra.Model:\n",
    "\n",
    "\n",
    "    if variant in {\"base\", \"corrected\"}:\n",
    "        sbml_path = \"iEC1368_DH5a.xml\"\n",
    "        return cobra.io.read_sbml_model(str(sbml_path))\n",
    "\n",
    "    else:\n",
    "        raise ValueError()\n",
    "\n",
    "#load base model: E. coli DH5 alpha from BiGG\n",
    "model = ecoli_dh5a()\n"
   ],
   "metadata": {
    "collapsed": false,
    "ExecuteTime": {
     "end_time": "2023-10-10T20:31:26.082356Z",
     "start_time": "2023-10-10T20:31:11.155180Z"
    }
   }
  },
  {
   "cell_type": "markdown",
   "source": [
    "Next, we will add the necessary lycopene biosynthetic pathways and the genes *crtE, crtB* and *crtI*, that mediate these pathways, to the COBRApy model."
   ],
   "metadata": {
    "collapsed": false
   }
  },
  {
   "cell_type": "code",
   "execution_count": 3,
   "outputs": [],
   "source": [
    "from typing import Dict, Optional\n",
    "\n",
    "import cobra\n",
    "import cobra.manipulation\n",
    "from cobra import Reaction\n",
    "\n",
    "\n",
    "def add_single_gene_reaction_pair_lyc(\n",
    "    model: cobra.Model,\n",
    "    gene_id: str,\n",
    "    reaction_id: str,\n",
    "    reaction_name: str,\n",
    "    metabolites: Dict[str, float],\n",
    "    gene_name: Optional[str] = None,\n",
    ") -> None:\n",
    "    assert not model.genes.query(lambda k: k == gene_id, attribute=\"id\")\n",
    "    assert not model.reactions.query(lambda k: k == reaction_id, attribute=\"id\")\n",
    "\n",
    "    Reaction = cobra.Reaction\n",
    "    rxn = Reaction(id=reaction_id)\n",
    "\n",
    "    if gene_name is None:\n",
    "        gene_name = gene_id\n",
    "    gene = cobra.Gene(gene_id, name=gene_name)\n",
    "\n",
    "    model.add_reactions([rxn])\n",
    "    model.genes.add(gene)\n",
    "\n",
    "    rxn.name = reaction_name\n",
    "    rxn.bounds = (-1000, 1000)  # TODO: set to something? Assumes that reaction is reversible.\n",
    "    rxn.add_metabolites(metabolites)\n",
    "    rxn.gene_reaction_rule = gene_id\n",
    "\n",
    "\n",
    "def add_crtE(model: cobra.Model) -> None:\n",
    "    # References: Choi et. al 2010 supplementary file 3\n",
    "\n",
    "    ggpp = cobra.Metabolite(\n",
    "        id=\"ggpp\",\n",
    "        formula=\"C20H33O7P2\",\n",
    "        name=\"geranylgeranyl diphosphate\",\n",
    "        charge=-3,\n",
    "        compartment=\"c\",\n",
    "    )\n",
    "    model.add_metabolites([ggpp])\n",
    "\n",
    "    phyto = cobra.Metabolite(\n",
    "        id=\"phyto\",\n",
    "        formula=\"C40H64\",\n",
    "        name=\"phytoene\",\n",
    "        charge=0,\n",
    "        compartment=\"c\",\n",
    "    )\n",
    "    model.add_metabolites([phyto])\n",
    "\n",
    "    lyco = cobra.Metabolite(\n",
    "        id=\"lyco\",\n",
    "        formula=\"C40H56\",\n",
    "        name=\"lycopene\",\n",
    "        charge=0,\n",
    "        compartment=\"c\",\n",
    "    )\n",
    "    model.add_metabolites([lyco])\n",
    "\n",
    "    add_single_gene_reaction_pair_lyc(\n",
    "        model=model,\n",
    "        gene_id=\"crtE\",\n",
    "        reaction_id=\"ZCRTE\",\n",
    "        reaction_name=\"Synthesis of geranylgeranyl pyrophosphate\",\n",
    "        metabolites={\n",
    "            \"ipdp_c\": -1.0,\n",
    "            \"frdp_c\": -1.0,\n",
    "            \"ggpp\": 1.0,\n",
    "            \"ppi_c\": 1.0\n",
    "        },\n",
    "    )\n",
    "\n",
    "\n",
    "def add_crtB(model: cobra.Model) -> None:\n",
    "    # References: Choi et. al 2010 supplementary file 3\n",
    "\n",
    "    add_single_gene_reaction_pair_lyc(\n",
    "        model=model,\n",
    "        gene_id=\"crtB\",\n",
    "        reaction_id=\"ZCRTB\",\n",
    "        reaction_name=\"Synthesis of phytoene\",\n",
    "        metabolites={\n",
    "            \"ggpp\": -2.0,\n",
    "            \"phyto\": 1.0,\n",
    "            \"ppi_c\": 1.0\n",
    "        },\n",
    "    )\n",
    "\n",
    "\n",
    "def add_crtI(model: cobra.Model) -> None:\n",
    "    # References: Choi et. al 2010 supplementary file 3\n",
    "\n",
    "    add_single_gene_reaction_pair_lyc(\n",
    "        model=model,\n",
    "        gene_id=\"crtI\",\n",
    "        reaction_id=\"ZCRTI\",\n",
    "        reaction_name=\"synthesis of lycopene from phytoene (dehydrogenation rxn)\",\n",
    "        metabolites={\n",
    "            \"phyto\": -1.0,\n",
    "            \"fad_c\": -8.0,\n",
    "            \"lyco\": 1.0,\n",
    "            \"fadh2_c\": 8.0\n",
    "        },\n",
    "    )\n",
    "\n",
    "def add_lycopene_demand(model: cobra.Model) -> None:\n",
    "    # References: Choi et. al 2010 supplementary file 3,\n",
    "\n",
    "    lyco_demand = Reaction('LYCOdemand')\n",
    "    model.add_reactions([lyco_demand])\n",
    "    lyco_demand.name = 'Lycopene demand rxn'\n",
    "    lyco_demand.lower_bound = 0\n",
    "    lyco_demand.upper_bound = 1000\n",
    "    lyco_demand.add_metabolites({\"lyco\": -1.0})\n",
    "\n",
    "\n",
    "#add necessary lycopene biosynthesis genes + associated pathways to the base model to\n",
    "#create the recombinant E. coli DH5 alpha model\n",
    "add_crtE(model)\n",
    "add_crtB(model)\n",
    "add_crtI(model)\n",
    "\n",
    "#add the lycopene demand reaction\n",
    "add_lycopene_demand(model)\n",
    "\n",
    "\n"
   ],
   "metadata": {
    "collapsed": false,
    "ExecuteTime": {
     "end_time": "2023-10-10T20:31:31.091874Z",
     "start_time": "2023-10-10T20:31:31.084991Z"
    }
   }
  },
  {
   "cell_type": "markdown",
   "source": [
    "## Media Setup\n",
    "\n",
    "After the creation of the recombinant E. coli DH5 alpha COBRApy model, the growth media must be simulated in COBRApy. The media used to grow the recombinant E. coli DH5 alpha cells was a [2xYT medium](https://sharebiology.com/2x-yt-medium/)(Choi et al. 2010). Unfortunately, due to the lack of availability of exact nutrients/metabolites (exchange reactions) needed to simulate the 2xYT medium in COBRApy, we decided to simulate a closely related medium called LB medium, which we were able to find all the metabolites, and thus the exchange reactions for, here: [LB medium](https://github.com/cdanielmachado/carveme/blob/master/carveme/data/benchmark/media_db.tsv). The exact flux for all the nutrient exchange reactions was not available, so a flux of 3 mmol / [gDW h] was chosen for each."
   ],
   "metadata": {
    "collapsed": false
   }
  },
  {
   "cell_type": "code",
   "execution_count": 4,
   "outputs": [],
   "source": [
    "\n",
    "def simulate_LB_media(model: cobra.Model) -> None:\n",
    "\n",
    "\n",
    "    LB_MEDIA_COMP = [\"EX_adn_e\", \"EX_ala__L_e\", \"EX_amp_e\", \"EX_arg__L_e\",\n",
    "                     \"EX_aso3_e\", \"EX_asp__L_e\", \"EX_ca2_e\", \"EX_cbl1_e\",\n",
    "                     \"EX_cd2_e\", \"EX_cl_e\", \"EX_cmp_e\", \"EX_cobalt2_e\",\n",
    "                     \"EX_cro4_e\", \"EX_cu2_e\", \"EX_cys__L_e\", \"EX_dad_2_e\",\n",
    "                     \"EX_dcyt_e\", \"EX_fe2_e\", \"EX_fe3_e\", \"EX_fol_e\", \"EX_glc__D_e\",\n",
    "                     \"EX_glu__L_e\", \"EX_gly_e\", \"EX_gmp_e\", \"EX_gsn_e\", \"EX_h2o_e\",\n",
    "                     \"EX_h2s_e\", \"EX_h_e\", \"EX_hg2_e\", \"EX_his__L_e\", \"EX_hxan_e\",\n",
    "                     \"EX_ile__L_e\", \"EX_ins_e\", \"EX_k_e\", \"EX_leu__L_e\", \"EX_lipoate_e\",\n",
    "                     \"EX_lys__L_e\", \"EX_met__L_e\", \"EX_mg2_e\", \"EX_mn2_e\", \"EX_mobd_e\",\n",
    "                     \"EX_na1_e\", \"EX_nac_e\", \"EX_nh4_e\", \"EX_ni2_e\", \"EX_o2_e\",\n",
    "                     \"EX_phe__L_e\", \"EX_pheme_e\", \"EX_pi_e\", \"EX_pnto__R_e\",\n",
    "                     \"EX_pro__L_e\", \"EX_pydx_e\", \"EX_ribflv_e\", \"EX_ser__L_e\",\n",
    "                     \"EX_so4_e\", \"EX_thm_e\", \"EX_thr__L_e\", \"EX_thymd_e\", \"EX_trp__L_e\",\n",
    "                     \"EX_tyr__L_e\", \"EX_ump_e\", \"EX_ura_e\", \"EX_uri_e\", \"EX_val__L_e\",\n",
    "                     \"EX_zn2_e\"\n",
    "                      ]\n",
    "\n",
    "    for metabolite in LB_MEDIA_COMP:\n",
    "        model.medium[metabolite] = 3\n",
    "\n",
    "#set LB media\n",
    "simulate_LB_media(model)"
   ],
   "metadata": {
    "collapsed": false,
    "ExecuteTime": {
     "end_time": "2023-10-10T20:31:34.125763Z",
     "start_time": "2023-10-10T20:31:33.396863Z"
    }
   }
  },
  {
   "cell_type": "markdown",
   "source": [
    "\n",
    "## Cobra-fseof Simulations\n",
    "\n",
    "FSEOF from cobra-fseof with 9 steps, setting lycopene production as enforced objective, biomass as main objective, and enforced direction as max, was performed on the recombinant E. coli DH5 alpha COBRApy model from above, to see whether resulting reactions chosen as overexpression candidates match those reported in [(Choi et al. 2010)](https://pubmed.ncbi.nlm.nih.gov/20348305/)."
   ],
   "metadata": {
    "collapsed": false
   }
  },
  {
   "cell_type": "markdown",
   "source": [
    "Run cobra-fseof"
   ],
   "metadata": {
    "collapsed": false
   }
  },
  {
   "cell_type": "markdown",
   "source": [],
   "metadata": {
    "collapsed": false
   }
  },
  {
   "cell_type": "code",
   "execution_count": 5,
   "outputs": [
    {
     "name": "stderr",
     "output_type": "stream",
     "text": [
      "FSEOF; Scanning: 100%|██████████| 9/9 [00:00<00:00, 22.10it/s]\n",
      "FSEOF; Running FVA: 100%|██████████| 9/9 [05:53<00:00, 39.25s/it]\n"
     ]
    }
   ],
   "source": [
    "#run cobra-fseof\n",
    "from cobra_fseof.fseof import fseof\n",
    "results = fseof(model, 9, \"LYCOdemand\", \"BIOMASS_Ec_iJO1366_core_53p95M\", \"max\")\n",
    "#print(results.scan)"
   ],
   "metadata": {
    "collapsed": false,
    "ExecuteTime": {
     "end_time": "2023-10-10T20:37:38.311624Z",
     "start_time": "2023-10-10T20:31:42.854317Z"
    }
   }
  },
  {
   "cell_type": "markdown",
   "source": [
    "Here, we have printed the list of reactions that cobra-fseof identified as targets for overexpression for increased lycopene production."
   ],
   "metadata": {
    "collapsed": false
   }
  },
  {
   "cell_type": "code",
   "execution_count": 6,
   "outputs": [
    {
     "data": {
      "text/plain": "           0\n0      AKGDH\n1     CDPMEK\n2      CYTK1\n3      DMATT\n4     DXPRIi\n5       DXPS\n6       FBA3\n7      FE3Ri\n8     FESD1s\n9       FESR\n10      GRTT\n11     IPDDI\n12     IPDPS\n13  MECDPDH5\n14    MECDPS\n15     MEPCT\n16       MOX\n17   PIt2rpp\n18     PItex\n19     PFK_3\n20     NDPK3\n21       PGI\n22      POR5\n23       PYK\n24       RPE\n25      TKT1\n26      TKT2\n27       TPI\n28  MECDPDH2\n29     ZCRTE\n30     ZCRTB\n31     ZCRTI",
      "text/html": "<div>\n<style scoped>\n    .dataframe tbody tr th:only-of-type {\n        vertical-align: middle;\n    }\n\n    .dataframe tbody tr th {\n        vertical-align: top;\n    }\n\n    .dataframe thead th {\n        text-align: right;\n    }\n</style>\n<table border=\"1\" class=\"dataframe\">\n  <thead>\n    <tr style=\"text-align: right;\">\n      <th></th>\n      <th>0</th>\n    </tr>\n  </thead>\n  <tbody>\n    <tr>\n      <th>0</th>\n      <td>AKGDH</td>\n    </tr>\n    <tr>\n      <th>1</th>\n      <td>CDPMEK</td>\n    </tr>\n    <tr>\n      <th>2</th>\n      <td>CYTK1</td>\n    </tr>\n    <tr>\n      <th>3</th>\n      <td>DMATT</td>\n    </tr>\n    <tr>\n      <th>4</th>\n      <td>DXPRIi</td>\n    </tr>\n    <tr>\n      <th>5</th>\n      <td>DXPS</td>\n    </tr>\n    <tr>\n      <th>6</th>\n      <td>FBA3</td>\n    </tr>\n    <tr>\n      <th>7</th>\n      <td>FE3Ri</td>\n    </tr>\n    <tr>\n      <th>8</th>\n      <td>FESD1s</td>\n    </tr>\n    <tr>\n      <th>9</th>\n      <td>FESR</td>\n    </tr>\n    <tr>\n      <th>10</th>\n      <td>GRTT</td>\n    </tr>\n    <tr>\n      <th>11</th>\n      <td>IPDDI</td>\n    </tr>\n    <tr>\n      <th>12</th>\n      <td>IPDPS</td>\n    </tr>\n    <tr>\n      <th>13</th>\n      <td>MECDPDH5</td>\n    </tr>\n    <tr>\n      <th>14</th>\n      <td>MECDPS</td>\n    </tr>\n    <tr>\n      <th>15</th>\n      <td>MEPCT</td>\n    </tr>\n    <tr>\n      <th>16</th>\n      <td>MOX</td>\n    </tr>\n    <tr>\n      <th>17</th>\n      <td>PIt2rpp</td>\n    </tr>\n    <tr>\n      <th>18</th>\n      <td>PItex</td>\n    </tr>\n    <tr>\n      <th>19</th>\n      <td>PFK_3</td>\n    </tr>\n    <tr>\n      <th>20</th>\n      <td>NDPK3</td>\n    </tr>\n    <tr>\n      <th>21</th>\n      <td>PGI</td>\n    </tr>\n    <tr>\n      <th>22</th>\n      <td>POR5</td>\n    </tr>\n    <tr>\n      <th>23</th>\n      <td>PYK</td>\n    </tr>\n    <tr>\n      <th>24</th>\n      <td>RPE</td>\n    </tr>\n    <tr>\n      <th>25</th>\n      <td>TKT1</td>\n    </tr>\n    <tr>\n      <th>26</th>\n      <td>TKT2</td>\n    </tr>\n    <tr>\n      <th>27</th>\n      <td>TPI</td>\n    </tr>\n    <tr>\n      <th>28</th>\n      <td>MECDPDH2</td>\n    </tr>\n    <tr>\n      <th>29</th>\n      <td>ZCRTE</td>\n    </tr>\n    <tr>\n      <th>30</th>\n      <td>ZCRTB</td>\n    </tr>\n    <tr>\n      <th>31</th>\n      <td>ZCRTI</td>\n    </tr>\n  </tbody>\n</table>\n</div>"
     },
     "execution_count": 6,
     "metadata": {},
     "output_type": "execute_result"
    }
   ],
   "source": [
    "targets = zip(results.scan.index, results.scan.target)\n",
    "targets = dict(targets)\n",
    "lst = []\n",
    "for target in targets:\n",
    "    if targets[target]:\n",
    "        lst.append(target)\n",
    "\n",
    "\n",
    "import pandas as pd\n",
    "df = pd.DataFrame(lst)\n",
    "df"
   ],
   "metadata": {
    "collapsed": false,
    "ExecuteTime": {
     "end_time": "2023-10-10T20:48:35.363434Z",
     "start_time": "2023-10-10T20:48:35.334260Z"
    }
   }
  },
  {
   "cell_type": "markdown",
   "source": [
    "\n",
    "Here, we have listed out and categorized (by which main pathways they belong to) all target over-expression reactions for increased lycopene production identified by FSEOF. This data was taken from Choi et al. 2010 Supplemental Table 4A. We first examined this table and identified the corresponding reactions in our COBRApy model, however some exceptions were made:\n",
    "\n",
    "* Of the reactions identified from the TCA cycle, 'FUM_rxn' was not found in the COBRApy model, so it is replaced with the reaction 'FUM'.\n",
    "\n",
    "* Of the reactions identified from the lycopene biosynthetic pathway, 'MECHPDH' was not found in the COBRApy model. However, 'MECDPDH2' and 'MECDPDH5' which correspond to the same reaction were found and are listed here.\n",
    "\n",
    "* Of all the reactions identified from the glycolysis pathway, 'FBA' replaced with 'FBA3', 'PFK' replaced with PFK_3.\n",
    "\n",
    "* Of all the other reactions identified, 'CACTP' and 'CRNt8pp' were not found in the COBRApy model. So they are replaces with \"none\".\n",
    "\n",
    "\n"
   ],
   "metadata": {
    "collapsed": false
   }
  },
  {
   "cell_type": "code",
   "execution_count": 8,
   "outputs": [],
   "source": [
    "\n",
    "#TCA cycle reactions\n",
    "TCA = ['ACONT', 'CS', 'FUM', 'ICDHyr', 'MDH', 'SUCDli', 'SUCOAS', 'AKGDH', 'SUCD4']\n",
    "\n",
    "\n",
    "#lycopene biosynthetic pathway\n",
    "Lyc = ['CDPMEK', 'DMATT', 'DXPRIi', 'DXPS','GRTT', 'IPDDI', 'IPDPS', 'MECDPDH5', 'MECDPDH2', 'MECDPS', 'MEPCT', 'ZCRTE', 'ZCRTB', 'ZCRTI']\n",
    "\n",
    "#Glycolysis\n",
    "Glyc = ['FBA3', 'PFK_3', 'PGI', 'TPI']\n",
    "\n",
    "\n",
    "OtherRxns = ['ADK1', 'ADK4', 'CYTK1', 'none', 'none', 'PPA', 'CO2t', 'H2Ot', 'PIt2rpp']"
   ],
   "metadata": {
    "collapsed": false,
    "ExecuteTime": {
     "end_time": "2023-10-10T20:50:33.340316Z",
     "start_time": "2023-10-10T20:50:33.337289Z"
    }
   }
  },
  {
   "cell_type": "markdown",
   "source": [],
   "metadata": {
    "collapsed": false
   }
  },
  {
   "cell_type": "code",
   "execution_count": 9,
   "outputs": [
    {
     "name": "stdout",
     "output_type": "stream",
     "text": [
      "Total number of reactions that the choi et. al 2010 paper identified: 36\n",
      "How many out of the total number of reactions that the choi et. al paper identified, did cobra-fseof identify: 21/36\n",
      "Above value as a percentage: 0.5833333333333334\n",
      "What percentage of the Lycopene biosynthetic pathways that choi et. al identified, did cobra-fseof identify: 1.0\n"
     ]
    }
   ],
   "source": [
    "#Of the genes in supp file 4, how many was our algorithm able to identify?\n",
    "\n",
    "allRxns = TCA + Lyc + Glyc + OtherRxns\n",
    "print(\"Total number of reactions that the choi et. al 2010 paper identified: \" + str(len(allRxns)))\n",
    "\n",
    "count = 0\n",
    "for item in allRxns:\n",
    "    if item in lst:\n",
    "        count += 1\n",
    "\n",
    "print(\"How many out of the total number of reactions that the choi et. al paper identified, did cobra-fseof identify: \" + str(count) + \"/\" + str(len(allRxns)))\n",
    "print(\"Above value as a percentage: \" + str(count/len(allRxns)))\n",
    "\n",
    "\n",
    "count1 = 0\n",
    "for item in Lyc:\n",
    "    if item in lst:\n",
    "        count1 += 1\n",
    "\n",
    "print(\"What percentage of the Lycopene biosynthetic pathways that choi et. al identified, did cobra-fseof identify: \" + str(count1/len(Lyc)))\n",
    "\n",
    "\n"
   ],
   "metadata": {
    "collapsed": false,
    "ExecuteTime": {
     "end_time": "2023-10-10T20:50:41.205929Z",
     "start_time": "2023-10-10T20:50:41.196684Z"
    }
   }
  },
  {
   "cell_type": "markdown",
   "source": [],
   "metadata": {
    "collapsed": false
   }
  },
  {
   "cell_type": "code",
   "execution_count": null,
   "outputs": [],
   "source": [],
   "metadata": {
    "collapsed": false
   }
  }
 ],
 "metadata": {
  "kernelspec": {
   "name": "python3",
   "language": "python",
   "display_name": "Python 3 (ipykernel)"
  },
  "language_info": {
   "codemirror_mode": {
    "name": "ipython",
    "version": 2
   },
   "file_extension": ".py",
   "mimetype": "text/x-python",
   "name": "python",
   "nbconvert_exporter": "python",
   "pygments_lexer": "ipython2",
   "version": "2.7.6"
  }
 },
 "nbformat": 4,
 "nbformat_minor": 0
}

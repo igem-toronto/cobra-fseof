{
 "cells": [
  {
   "cell_type": "markdown",
   "metadata": {
    "collapsed": false,
    "jupyter": {
     "outputs_hidden": false
    }
   },
   "source": [
    "# Verifying the Accuracy of iGEM Toronto's Flux Scanning Based on Enforced objective Flux (FSEOF) Implementation\n",
    "\n",
    "As part of our 2023 project, we (the Dry Lab sub-team of the University of Toronto's iGEM team) made a COBRApy implementation of the FSEOF (Flux Scanning based on Enforced Objective Flux) algorithm [(Choi et al., 2010)](https://doi.org/10.1128/AEM.00115-10). FSEOF identifies candidate genes that can be overexpressed in order to optimize for a metabolic engineering objective. In Choi et al. (2010), FSEOF was used to identify gene overexpression targets in *E. coli* for the increased production of lycopene. In order to validate our implementation, we attempt to replicate their findings. Throughout, we refer to our implementation of FSEOF as cobra-fseof, and the original Choi et al. algorithm as just FSEOF.\n"
   ]
  },
  {
   "cell_type": "markdown",
   "metadata": {
    "collapsed": false,
    "jupyter": {
     "outputs_hidden": false
    }
   },
   "source": [
    "## Construction of the lycopene-producing *E. coli* model in COBRApy\n",
    "\n",
    "The parental *E. coli* strain used by Choi et al. to experimentally validate the targets identified by FSEOF is a recombinant *E. coli* DH5α strain that contains the *Erwinia uredovora crtEIB* (lycopene biosynthesis) genes.\n",
    "The genome scale metabolic model (GSMM) used in Choi et al. for the *in-silico* metabolic modeling (through MetaFluxNet) and FSEOF simulations of the recombinant *E. coli* DH5α strain, was EcoMBEL979, which was expanded to include the exogenous lycopene biosynthetic pathways and associated genes.\n",
    "\n",
    "Instead of using the expanded EcoMBEL979 GSMM for the *in-silico* metabolic modeling and cobra-fseof simulations of the recombinant E. coli DH5 alpha strain, we used the already available BiGG model for *E. coli* DH5α, `iEC1368_DH5a`, and expanded it to include the necessary lycopene biosynthetic pathways and the genes *crtE, crtB* and *crtI*, that mediate these pathways. In addition to the lycopene biosynthetic genes, a lycopene demand reaction was added. Reference for the exact names of the genes, pathways and metabolites that were added can be found in Supplementary file 3, Table S3A and B of (Choi et al., 2010)."
   ]
  },
  {
   "cell_type": "markdown",
   "metadata": {
    "collapsed": false,
    "jupyter": {
     "outputs_hidden": false
    }
   },
   "source": [
    "First, we will load the base COBRApy *E. coli* DH5α model."
   ]
  },
  {
   "cell_type": "code",
   "execution_count": 1,
   "metadata": {
    "ExecuteTime": {
     "end_time": "2023-10-10T20:31:26.082356Z",
     "start_time": "2023-10-10T20:31:11.155180Z"
    },
    "collapsed": false,
    "jupyter": {
     "outputs_hidden": false
    }
   },
   "outputs": [],
   "source": [
    "import sys\n",
    "sys.path.append(\"..\")\n",
    "\n",
    "import cobra\n",
    "\n",
    "\n",
    "model = cobra.io.read_sbml_model(\"iEC1368_DH5a.xml\")"
   ]
  },
  {
   "cell_type": "markdown",
   "metadata": {
    "collapsed": false,
    "jupyter": {
     "outputs_hidden": false
    }
   },
   "source": [
    "Next, we will add the necessary lycopene biosynthetic pathways and the genes (i.e., *crtE, crtB*, and *crtI*) that mediate these pathways."
   ]
  },
  {
   "cell_type": "code",
   "execution_count": 2,
   "metadata": {
    "ExecuteTime": {
     "end_time": "2023-10-10T20:31:31.091874Z",
     "start_time": "2023-10-10T20:31:31.084991Z"
    },
    "collapsed": false,
    "jupyter": {
     "outputs_hidden": false
    },
    "pycharm": {
     "name": "#%%\n"
    }
   },
   "outputs": [],
   "source": [
    "def add_single_gene_reaction_pair_lyc(\n",
    "    model,\n",
    "    gene_id,\n",
    "    reaction_id,\n",
    "    reaction_name,\n",
    "    metabolites,\n",
    "    gene_name=None,\n",
    "):\n",
    "    assert not model.genes.query(lambda k: k == gene_id, attribute=\"id\")\n",
    "    assert not model.reactions.query(lambda k: k == reaction_id, attribute=\"id\")\n",
    "\n",
    "    rxn = cobra.Reaction(id=reaction_id)\n",
    "\n",
    "    if gene_name is None:\n",
    "        gene_name = gene_id\n",
    "    gene = cobra.Gene(gene_id, name=gene_name)\n",
    "\n",
    "    model.add_reactions([rxn])\n",
    "    model.genes.add(gene)\n",
    "\n",
    "    rxn.name = reaction_name\n",
    "    rxn.bounds = (-1000, 1000)\n",
    "    rxn.add_metabolites(metabolites)\n",
    "    rxn.gene_reaction_rule = gene_id\n",
    "\n",
    "\n",
    "# Add crtE gene\n",
    "ggpp = cobra.Metabolite(\n",
    "    id=\"ggpp\",\n",
    "    formula=\"C20H33O7P2\",\n",
    "    name=\"geranylgeranyl diphosphate\",\n",
    "    charge=-3,\n",
    "    compartment=\"c\",\n",
    ")\n",
    "model.add_metabolites([ggpp])\n",
    "\n",
    "phyto = cobra.Metabolite(\n",
    "    id=\"phyto\",\n",
    "    formula=\"C40H64\",\n",
    "    name=\"phytoene\",\n",
    "    charge=0,\n",
    "    compartment=\"c\",\n",
    ")\n",
    "model.add_metabolites([phyto])\n",
    "\n",
    "lyco = cobra.Metabolite(\n",
    "    id=\"lyco\",\n",
    "    formula=\"C40H56\",\n",
    "    name=\"lycopene\",\n",
    "    charge=0,\n",
    "    compartment=\"c\",\n",
    ")\n",
    "model.add_metabolites([lyco])\n",
    "\n",
    "add_single_gene_reaction_pair_lyc(\n",
    "    model=model,\n",
    "    gene_id=\"crtE\",\n",
    "    reaction_id=\"ZCRTE\",\n",
    "    reaction_name=\"Synthesis of geranylgeranyl pyrophosphate\",\n",
    "    metabolites={\n",
    "        \"ipdp_c\": -1.0,\n",
    "        \"frdp_c\": -1.0,\n",
    "        \"ggpp\": 1.0,\n",
    "        \"ppi_c\": 1.0\n",
    "    },\n",
    ")\n",
    "\n",
    "# Add crtB gene \n",
    "add_single_gene_reaction_pair_lyc(\n",
    "    model=model,\n",
    "    gene_id=\"crtB\",\n",
    "    reaction_id=\"ZCRTB\",\n",
    "    reaction_name=\"Synthesis of phytoene\",\n",
    "    metabolites={\n",
    "        \"ggpp\": -2.0,\n",
    "        \"phyto\": 1.0,\n",
    "        \"ppi_c\": 1.0\n",
    "    },\n",
    ")\n",
    "\n",
    "# Add crtI gene \n",
    "add_single_gene_reaction_pair_lyc(\n",
    "    model=model,\n",
    "    gene_id=\"crtI\",\n",
    "    reaction_id=\"ZCRTI\",\n",
    "    reaction_name=\"Synthesis of lycopene from phytoene (dehydrogenation reaction)\",\n",
    "    metabolites={\n",
    "        \"phyto\": -1.0,\n",
    "        \"fad_c\": -8.0,\n",
    "        \"lyco\": 1.0,\n",
    "        \"fadh2_c\": 8.0\n",
    "    },\n",
    ")\n",
    "\n",
    "# Add lycopene demand \n",
    "# https://cnls.lanl.gov/external/qbio2018/Slides/FBA%202/qBio-FBA-lab-slides.pdf (slide 21)\n",
    "lyco_dem = cobra.Reaction(\"LYCOdem\")\n",
    "model.add_reactions([lyco_dem])\n",
    "lyco_dem.name = \"Lycopene demand reaction\"\n",
    "lyco_dem.lower_bound = 0\n",
    "lyco_dem.upper_bound = 1000\n",
    "lyco_dem.add_metabolites({\"lyco\": -1.0})"
   ]
  },
  {
   "cell_type": "markdown",
   "metadata": {
    "collapsed": false,
    "jupyter": {
     "outputs_hidden": false
    }
   },
   "source": [
    "## Media setup\n",
    "\n",
    "After the creation of the recombinant *E. coli* DH5α COBRApy model, the growth media must be simulated in COBRApy. The media used to grow the recombinant *E. coli* DH5α alpha cells was a [2xYT medium](https://sharebiology.com/2x-yt-medium/). Unfortunately, due to the lack of availability of exact nutrients/metabolites (exchange reactions) needed to simulate the 2xYT medium in COBRApy, we decided to simulate a closely related medium called LB medium, in which we were able to find all the metabolites here: [LB medium](https://github.com/cdanielmachado/carveme/blob/master/carveme/data/benchmark/media_db.tsv). The exact flux for all the nutrient exchange reactions was not available, so a flux of 3 mmol / [gDW h] was chosen for each."
   ]
  },
  {
   "cell_type": "code",
   "execution_count": 3,
   "metadata": {
    "ExecuteTime": {
     "end_time": "2023-10-10T20:31:34.125763Z",
     "start_time": "2023-10-10T20:31:33.396863Z"
    },
    "collapsed": false,
    "jupyter": {
     "outputs_hidden": false
    }
   },
   "outputs": [],
   "source": [
    "LB_MEDIA_COMP = [\n",
    "    \"adn\", \"ala__L\", \"amp\", \"arg__L\",\n",
    "    \"aso3\", \"asp__L\", \"ca2\", \"cbl1\",\n",
    "    \"cd2\", \"cl\", \"cmp\", \"cobalt2\",\n",
    "    \"cro4\", \"cu2\", \"cys__L\", \"dad_2\",\n",
    "    \"dcyt\", \"fe2\", \"fe3\", \"fol\", \"glc__D\",\n",
    "    \"glu__L\", \"gly\", \"gmp\", \"gsn\", \"h2o\",\n",
    "    \"h2s\", \"h\", \"hg2\", \"his__L\", \"hxan\",\n",
    "    \"ile__L\", \"ins\", \"k\", \"leu__L\", \"lipoate\",\n",
    "    \"lys__L\", \"met__L\", \"mg2\", \"mn2\", \"mobd\",\n",
    "    \"na1\", \"nac\", \"nh4\", \"ni2\", \"o2\",\n",
    "    \"phe__L\", \"pheme\", \"pi\", \"pnto__R\",\n",
    "    \"pro__L\", \"pydx\", \"ribflv\", \"ser__L\",\n",
    "    \"so4\", \"thm\", \"thr__L\", \"thymd\", \"trp__L\",\n",
    "    \"tyr__L\", \"ump\", \"ura\", \"uri\", \"val__L\",\n",
    "    \"zn2\",\n",
    "]\n",
    "\n",
    "for metabolite in LB_MEDIA_COMP:\n",
    "    model.medium[f\"EX_{metabolite}_e\"] = 3"
   ]
  },
  {
   "cell_type": "markdown",
   "metadata": {
    "collapsed": false,
    "jupyter": {
     "outputs_hidden": false
    }
   },
   "source": [
    "## Cobra-FSEOF simulations\n",
    "\n",
    "FSEOF from cobra-fseof with 9 steps, setting lycopene production as enforced objective, biomass as main objective, and enforced direction as max, was performed on the recombinant *E. coli* DH5α COBRApy model from above, to see whether resulting reactions chosen as overexpression candidates match those reported in (Choi et al., 2010)."
   ]
  },
  {
   "cell_type": "code",
   "execution_count": 4,
   "metadata": {
    "collapsed": false,
    "jupyter": {
     "outputs_hidden": false
    },
    "pycharm": {
     "name": "#%%\n"
    }
   },
   "outputs": [
    {
     "name": "stderr",
     "output_type": "stream",
     "text": [
      "FSEOF; Scanning: 100%|████████████████████████████| 9/9 [00:00<00:00, 26.96it/s]\n",
      "FSEOF; Running FVA: 100%|█████████████████████████| 9/9 [02:24<00:00, 16.08s/it]\n"
     ]
    }
   ],
   "source": [
    "import cobra_fseof\n",
    "\n",
    "results = cobra_fseof.fseof(model, 9, \"LYCOdem\", \"BIOMASS_Ec_iJO1366_core_53p95M\", \"max\")"
   ]
  },
  {
   "cell_type": "markdown",
   "metadata": {
    "collapsed": false,
    "jupyter": {
     "outputs_hidden": false
    },
    "pycharm": {
     "name": "#%% md\n"
    }
   },
   "source": [
    "Here, we have printed the list of reactions that cobra-fseof identified as targets for overexpression."
   ]
  },
  {
   "cell_type": "code",
   "execution_count": 5,
   "metadata": {
    "collapsed": false,
    "jupyter": {
     "outputs_hidden": false
    },
    "pycharm": {
     "name": "#%%\n"
    }
   },
   "outputs": [
    {
     "data": {
      "text/plain": [
       "{'AKGDH',\n",
       " 'CDPMEK',\n",
       " 'CYTK1',\n",
       " 'DMATT',\n",
       " 'DXPRIi',\n",
       " 'DXPS',\n",
       " 'FBA3',\n",
       " 'FE3Ri',\n",
       " 'FESD1s',\n",
       " 'FESR',\n",
       " 'GRTT',\n",
       " 'IPDDI',\n",
       " 'IPDPS',\n",
       " 'MECDPDH2',\n",
       " 'MECDPDH5',\n",
       " 'MECDPS',\n",
       " 'MEPCT',\n",
       " 'MOX',\n",
       " 'NDPK3',\n",
       " 'PFK_3',\n",
       " 'PGI',\n",
       " 'PIt2rpp',\n",
       " 'PItex',\n",
       " 'POR5',\n",
       " 'PYK',\n",
       " 'RPE',\n",
       " 'TKT1',\n",
       " 'TKT2',\n",
       " 'TPI',\n",
       " 'ZCRTB',\n",
       " 'ZCRTE',\n",
       " 'ZCRTI'}"
      ]
     },
     "execution_count": 5,
     "metadata": {},
     "output_type": "execute_result"
    }
   ],
   "source": [
    "scan = results.scan \n",
    "targets = set(scan[scan.target].index)\n",
    "targets"
   ]
  },
  {
   "cell_type": "markdown",
   "metadata": {
    "collapsed": false,
    "jupyter": {
     "outputs_hidden": false
    },
    "pycharm": {
     "name": "#%% md\n"
    }
   },
   "source": [
    "Below, we have listed out and categorized (by which main pathways they belong to) all target over-expression reactions for increased lycopene production identified by FSEOF. This data was taken from Supplemental Table 4A of (Choi et al., 2010). We first examined this table and matched them to the corresponding reactions in our COBRApy model, however some exceptions were made. Of the reactions identified:\n",
    "\n",
    "* From the TCA cycle, `FUM_rxn` was not found in the COBRApy model so it is replaced with `FUM`.\n",
    "\n",
    "* From the lycopene biosynthetic pathway, `MECHPDH` was not found in the COBRApy model. However, `MECDPDH2` and `MECDPDH5` which correspond to the same reaction were found and are listed here.\n",
    "\n",
    "* From the glycolysis pathway, `FBA` replaced with `FBA3` and `PFK` replaced with `PFK_3`.\n",
    "\n",
    "* Of all the other reactions, `CACTP` and `CRNt8pp` were not found in the COBRApy model."
   ]
  },
  {
   "cell_type": "code",
   "execution_count": 6,
   "metadata": {
    "collapsed": false,
    "jupyter": {
     "outputs_hidden": false
    },
    "pycharm": {
     "name": "#%%\n"
    }
   },
   "outputs": [],
   "source": [
    "# TCA cycle reactions\n",
    "targets_tca = {\"ACONT\", \"CS\", \"FUM\", \"ICDHyr\", \"MDH\", \"SUCDli\", \"SUCOAS\", \"AKGDH\", \"SUCD4\"}\n",
    "\n",
    "# Lycopene biosynthetic pathway\n",
    "targets_lyc = {\"CDPMEK\", \"DMATT\", \"DXPRIi\", \"DXPS\",\"GRTT\", \"IPDDI\", \"IPDPS\", \"MECDPDH5\", \"MECDPDH2\", \"MECDPS\", \"MEPCT\", \"ZCRTE\", \"ZCRTB\", \"ZCRTI\"}\n",
    "\n",
    "# Glycolysis\n",
    "targets_glyc = {\"FBA3\", \"PFK_3\", \"PGI\", \"TPI\"}\n",
    "\n",
    "# Misc.\n",
    "targets_other = {\"ADK1\", \"ADK4\", \"CYTK1\", \"CACTP\", \"CRNt8pp\", \"PPA\", \"CO2t\", \"H2Ot\", \"PIt2rpp\"}"
   ]
  },
  {
   "cell_type": "markdown",
   "metadata": {},
   "source": [
    "Finally, we see how many of the above reactions cobra-fseof was able to recover."
   ]
  },
  {
   "cell_type": "code",
   "execution_count": 7,
   "metadata": {
    "collapsed": false,
    "jupyter": {
     "outputs_hidden": false
    },
    "pycharm": {
     "name": "#%%\n"
    }
   },
   "outputs": [
    {
     "name": "stdout",
     "output_type": "stream",
     "text": [
      "Number of reactions cobra-fseof identified: 32\n",
      "Number of reactions Choi et al. identified: 36\n",
      "Percentage of reactions Choi et al. identified that cobra-fseof also identified: 58.33%\n",
      "Percentage of lycopene biosynthetic pathways Choi et al. identified that cobra-fseof also identified: 100.00%\n"
     ]
    }
   ],
   "source": [
    "targets_choi = targets_tca | targets_lyc | targets_glyc | targets_other\n",
    "\n",
    "print(f\"Number of reactions cobra-fseof identified: {len(targets)}\")\n",
    "print(f\"Number of reactions Choi et al. identified: {len(targets_choi)}\")\n",
    "print(\n",
    "    f\"Percentage of reactions Choi et al. identified that cobra-fseof also identified: \"\n",
    "    f\"{len(targets & targets_choi) / len(targets_choi):0.2%}\"\n",
    ")\n",
    "print(\n",
    "    f\"Percentage of lycopene biosynthetic pathways Choi et al. identified that cobra-fseof also identified: \"\n",
    "    f\"{len(targets & targets_lyc) / len(targets_lyc):0.2%}\"\n",
    ")"
   ]
  }
 ],
 "metadata": {
  "kernelspec": {
   "display_name": "Python 3 (ipykernel)",
   "language": "python",
   "name": "python3"
  },
  "language_info": {
   "codemirror_mode": {
    "name": "ipython",
    "version": 3
   },
   "file_extension": ".py",
   "mimetype": "text/x-python",
   "name": "python",
   "nbconvert_exporter": "python",
   "pygments_lexer": "ipython3",
   "version": "3.8.17"
  }
 },
 "nbformat": 4,
 "nbformat_minor": 4
}
